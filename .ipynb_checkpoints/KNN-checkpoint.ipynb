{
 "cells": [
  {
   "cell_type": "code",
   "execution_count": 59,
   "metadata": {},
   "outputs": [],
   "source": [
    "import numpy as np\n",
    "import pandas as pd\n",
    "import matplotlib.pyplot as plt\n",
    "import re\n"
   ]
  },
  {
   "cell_type": "code",
   "execution_count": 60,
   "metadata": {},
   "outputs": [
    {
     "data": {
      "text/html": [
       "<div>\n",
       "<style scoped>\n",
       "    .dataframe tbody tr th:only-of-type {\n",
       "        vertical-align: middle;\n",
       "    }\n",
       "\n",
       "    .dataframe tbody tr th {\n",
       "        vertical-align: top;\n",
       "    }\n",
       "\n",
       "    .dataframe thead th {\n",
       "        text-align: right;\n",
       "    }\n",
       "</style>\n",
       "<table border=\"1\" class=\"dataframe\">\n",
       "  <thead>\n",
       "    <tr style=\"text-align: right;\">\n",
       "      <th></th>\n",
       "      <th>anime_id</th>\n",
       "      <th>name</th>\n",
       "      <th>genre</th>\n",
       "      <th>type</th>\n",
       "      <th>episodes</th>\n",
       "      <th>rating</th>\n",
       "      <th>members</th>\n",
       "    </tr>\n",
       "  </thead>\n",
       "  <tbody>\n",
       "    <tr>\n",
       "      <th>0</th>\n",
       "      <td>32281</td>\n",
       "      <td>Kimi no Na wa.</td>\n",
       "      <td>Drama, Romance, School, Supernatural</td>\n",
       "      <td>Movie</td>\n",
       "      <td>1</td>\n",
       "      <td>9.37</td>\n",
       "      <td>200630</td>\n",
       "    </tr>\n",
       "    <tr>\n",
       "      <th>1</th>\n",
       "      <td>5114</td>\n",
       "      <td>Fullmetal Alchemist: Brotherhood</td>\n",
       "      <td>Action, Adventure, Drama, Fantasy, Magic, Mili...</td>\n",
       "      <td>TV</td>\n",
       "      <td>64</td>\n",
       "      <td>9.26</td>\n",
       "      <td>793665</td>\n",
       "    </tr>\n",
       "    <tr>\n",
       "      <th>2</th>\n",
       "      <td>28977</td>\n",
       "      <td>Gintama°</td>\n",
       "      <td>Action, Comedy, Historical, Parody, Samurai, S...</td>\n",
       "      <td>TV</td>\n",
       "      <td>51</td>\n",
       "      <td>9.25</td>\n",
       "      <td>114262</td>\n",
       "    </tr>\n",
       "    <tr>\n",
       "      <th>3</th>\n",
       "      <td>9253</td>\n",
       "      <td>Steins;Gate</td>\n",
       "      <td>Sci-Fi, Thriller</td>\n",
       "      <td>TV</td>\n",
       "      <td>24</td>\n",
       "      <td>9.17</td>\n",
       "      <td>673572</td>\n",
       "    </tr>\n",
       "    <tr>\n",
       "      <th>4</th>\n",
       "      <td>9969</td>\n",
       "      <td>Gintama&amp;#039;</td>\n",
       "      <td>Action, Comedy, Historical, Parody, Samurai, S...</td>\n",
       "      <td>TV</td>\n",
       "      <td>51</td>\n",
       "      <td>9.16</td>\n",
       "      <td>151266</td>\n",
       "    </tr>\n",
       "  </tbody>\n",
       "</table>\n",
       "</div>"
      ],
      "text/plain": [
       "   anime_id                              name  \\\n",
       "0     32281                    Kimi no Na wa.   \n",
       "1      5114  Fullmetal Alchemist: Brotherhood   \n",
       "2     28977                          Gintama°   \n",
       "3      9253                       Steins;Gate   \n",
       "4      9969                     Gintama&#039;   \n",
       "\n",
       "                                               genre   type episodes  rating  \\\n",
       "0               Drama, Romance, School, Supernatural  Movie        1    9.37   \n",
       "1  Action, Adventure, Drama, Fantasy, Magic, Mili...     TV       64    9.26   \n",
       "2  Action, Comedy, Historical, Parody, Samurai, S...     TV       51    9.25   \n",
       "3                                   Sci-Fi, Thriller     TV       24    9.17   \n",
       "4  Action, Comedy, Historical, Parody, Samurai, S...     TV       51    9.16   \n",
       "\n",
       "   members  \n",
       "0   200630  \n",
       "1   793665  \n",
       "2   114262  \n",
       "3   673572  \n",
       "4   151266  "
      ]
     },
     "execution_count": 60,
     "metadata": {},
     "output_type": "execute_result"
    }
   ],
   "source": [
    "anime = pd.read_csv(\"anime.csv\")\n",
    "anime.head()\n"
   ]
  },
  {
   "cell_type": "code",
   "execution_count": 61,
   "metadata": {},
   "outputs": [
    {
     "data": {
      "text/plain": [
       "anime_id      0\n",
       "name          0\n",
       "genre        62\n",
       "type         25\n",
       "episodes      0\n",
       "rating      230\n",
       "members       0\n",
       "dtype: int64"
      ]
     },
     "execution_count": 61,
     "metadata": {},
     "output_type": "execute_result"
    }
   ],
   "source": [
    "anime.isnull().sum()\n"
   ]
  },
  {
   "cell_type": "code",
   "execution_count": 62,
   "metadata": {},
   "outputs": [
    {
     "data": {
      "text/html": [
       "<div>\n",
       "<style scoped>\n",
       "    .dataframe tbody tr th:only-of-type {\n",
       "        vertical-align: middle;\n",
       "    }\n",
       "\n",
       "    .dataframe tbody tr th {\n",
       "        vertical-align: top;\n",
       "    }\n",
       "\n",
       "    .dataframe thead th {\n",
       "        text-align: right;\n",
       "    }\n",
       "</style>\n",
       "<table border=\"1\" class=\"dataframe\">\n",
       "  <thead>\n",
       "    <tr style=\"text-align: right;\">\n",
       "      <th></th>\n",
       "      <th>anime_id</th>\n",
       "      <th>name</th>\n",
       "      <th>genre</th>\n",
       "      <th>type</th>\n",
       "      <th>episodes</th>\n",
       "      <th>rating</th>\n",
       "      <th>members</th>\n",
       "    </tr>\n",
       "  </thead>\n",
       "  <tbody>\n",
       "    <tr>\n",
       "      <th>74</th>\n",
       "      <td>21</td>\n",
       "      <td>One Piece</td>\n",
       "      <td>Action, Adventure, Comedy, Drama, Fantasy, Sho...</td>\n",
       "      <td>TV</td>\n",
       "      <td>Unknown</td>\n",
       "      <td>8.58</td>\n",
       "      <td>504862</td>\n",
       "    </tr>\n",
       "    <tr>\n",
       "      <th>252</th>\n",
       "      <td>235</td>\n",
       "      <td>Detective Conan</td>\n",
       "      <td>Adventure, Comedy, Mystery, Police, Shounen</td>\n",
       "      <td>TV</td>\n",
       "      <td>Unknown</td>\n",
       "      <td>8.25</td>\n",
       "      <td>114702</td>\n",
       "    </tr>\n",
       "    <tr>\n",
       "      <th>615</th>\n",
       "      <td>1735</td>\n",
       "      <td>Naruto: Shippuuden</td>\n",
       "      <td>Action, Comedy, Martial Arts, Shounen, Super P...</td>\n",
       "      <td>TV</td>\n",
       "      <td>Unknown</td>\n",
       "      <td>7.94</td>\n",
       "      <td>533578</td>\n",
       "    </tr>\n",
       "  </tbody>\n",
       "</table>\n",
       "</div>"
      ],
      "text/plain": [
       "     anime_id                name  \\\n",
       "74         21           One Piece   \n",
       "252       235     Detective Conan   \n",
       "615      1735  Naruto: Shippuuden   \n",
       "\n",
       "                                                 genre type episodes  rating  \\\n",
       "74   Action, Adventure, Comedy, Drama, Fantasy, Sho...   TV  Unknown    8.58   \n",
       "252        Adventure, Comedy, Mystery, Police, Shounen   TV  Unknown    8.25   \n",
       "615  Action, Comedy, Martial Arts, Shounen, Super P...   TV  Unknown    7.94   \n",
       "\n",
       "     members  \n",
       "74    504862  \n",
       "252   114702  \n",
       "615   533578  "
      ]
     },
     "execution_count": 62,
     "metadata": {},
     "output_type": "execute_result"
    }
   ],
   "source": [
    "anime[anime['episodes']=='Unknown'].head(3)\n"
   ]
  },
  {
   "cell_type": "code",
   "execution_count": 63,
   "metadata": {},
   "outputs": [],
   "source": [
    "anime.loc[(anime[\"genre\"]==\"Hentai\") & (anime[\"episodes\"]==\"Unknown\"),\"episodes\"] = \"1\"\n",
    "anime.loc[(anime[\"type\"]==\"OVA\") & (anime[\"episodes\"]==\"Unknown\"),\"episodes\"] = \"1\"\n",
    "\n",
    "anime.loc[(anime[\"type\"] == \"Movie\") & (anime[\"episodes\"] == \"Unknown\")] = \"1\""
   ]
  },
  {
   "cell_type": "code",
   "execution_count": 64,
   "metadata": {},
   "outputs": [],
   "source": [
    "known_animes = {\"Naruto Shippuuden\":500, \"One Piece\":784,\"Detective Conan\":854, \"Dragon Ball Super\":86,\n",
    "                \"Crayon Shin chan\":942, \"Yu Gi Oh Arc V\":148,\"Shingeki no Kyojin Season 2\":25,\n",
    "                \"Boku no Hero Academia 2nd Season\":25,\"Little Witch Academia TV\":25}"
   ]
  },
  {
   "cell_type": "code",
   "execution_count": 65,
   "metadata": {},
   "outputs": [],
   "source": [
    "for i,j in known_animes.items():    \n",
    "    anime.loc[anime[\"name\"]==i,\"episodes\"] = j\n",
    "anime[\"episodes\"] = anime[\"episodes\"].map(lambda x:np.nan if x==\"Unknown\" else x)\n",
    "anime[\"episodes\"].fillna(anime[\"episodes\"].median(),inplace = True)\n",
    "anime[\"episodes\"].fillna(anime[\"episodes\"].median(),inplace = True)\n",
    "\n",
    "anime[\"rating\"] = anime[\"rating\"].astype(float)\n",
    "anime[\"rating\"].fillna(anime[\"rating\"].median(),inplace = True)\n",
    "anime[\"members\"] = anime[\"members\"].astype(float)\n",
    "anime_features = pd.concat([anime[\"genre\"].str.get_dummies(sep=\",\"),\n",
    "                            pd.get_dummies(anime[[\"type\"]]),\n",
    "                            anime[[\"rating\"]],anime[[\"members\"]],anime[\"episodes\"]],axis=1)\n",
    "anime[\"name\"] = anime[\"name\"].map(lambda name:re.sub('[^A-Za-z0-9]+', \" \", name))\n",
    "anime_features.head()"
   ]
  },
  {
   "cell_type": "code",
   "execution_count": 71,
   "metadata": {},
   "outputs": [
    {
     "data": {
      "text/plain": [
       "Index([' Adventure', ' Cars', ' Comedy', ' Dementia', ' Demons', ' Drama',\n",
       "       ' Ecchi', ' Fantasy', ' Game', ' Harem', ' Hentai', ' Historical',\n",
       "       ' Horror', ' Josei', ' Kids', ' Magic', ' Martial Arts', ' Mecha',\n",
       "       ' Military', ' Music', ' Mystery', ' Parody', ' Police',\n",
       "       ' Psychological', ' Romance', ' Samurai', ' School', ' Sci-Fi',\n",
       "       ' Seinen', ' Shoujo', ' Shoujo Ai', ' Shounen', ' Shounen Ai',\n",
       "       ' Slice of Life', ' Space', ' Sports', ' Super Power', ' Supernatural',\n",
       "       ' Thriller', ' Vampire', ' Yaoi', ' Yuri', '1', 'Action', 'Adventure',\n",
       "       'Cars', 'Comedy', 'Dementia', 'Demons', 'Drama', 'Ecchi', 'Fantasy',\n",
       "       'Game', 'Harem', 'Hentai', 'Historical', 'Horror', 'Josei', 'Kids',\n",
       "       'Magic', 'Martial Arts', 'Mecha', 'Military', 'Music', 'Mystery',\n",
       "       'Parody', 'Police', 'Psychological', 'Romance', 'Samurai', 'School',\n",
       "       'Sci-Fi', 'Seinen', 'Shoujo', 'Shounen', 'Slice of Life', 'Space',\n",
       "       'Sports', 'Super Power', 'Supernatural', 'Thriller', 'Vampire', 'Yaoi',\n",
       "       'type_1', 'type_Movie', 'type_Music', 'type_ONA', 'type_OVA',\n",
       "       'type_Special', 'type_TV', 'rating', 'members', 'episodes'],\n",
       "      dtype='object')"
      ]
     },
     "execution_count": 71,
     "metadata": {},
     "output_type": "execute_result"
    }
   ],
   "source": [
    "anime_features.columns\n"
   ]
  },
  {
   "cell_type": "code",
   "execution_count": 72,
   "metadata": {},
   "outputs": [
    {
     "data": {
      "text/plain": [
       "array([[0.  , 0.  , 0.  , ..., 0.93, 0.2 , 0.  ],\n",
       "       [1.  , 0.  , 0.  , ..., 0.92, 0.78, 0.03],\n",
       "       [0.  , 0.  , 1.  , ..., 0.92, 0.11, 0.03],\n",
       "       ...,\n",
       "       [0.  , 0.  , 0.  , ..., 0.43, 0.  , 0.  ],\n",
       "       [0.  , 0.  , 0.  , ..., 0.44, 0.  , 0.  ],\n",
       "       [0.  , 0.  , 0.  , ..., 0.5 , 0.  , 0.  ]])"
      ]
     },
     "execution_count": 72,
     "metadata": {},
     "output_type": "execute_result"
    }
   ],
   "source": [
    "from sklearn.preprocessing import MinMaxScaler\n",
    "\n",
    "min_max_scaler = MinMaxScaler()\n",
    "anime_features = min_max_scaler.fit_transform(anime_features)\n",
    "np.round(anime_features,2)\n"
   ]
  },
  {
   "cell_type": "code",
   "execution_count": 73,
   "metadata": {},
   "outputs": [],
   "source": [
    "from sklearn.neighbors import NearestNeighbors\n"
   ]
  },
  {
   "cell_type": "code",
   "execution_count": 74,
   "metadata": {},
   "outputs": [],
   "source": [
    "nbrs = NearestNeighbors(n_neighbors=6, algorithm='ball_tree').fit(anime_features)"
   ]
  },
  {
   "cell_type": "code",
   "execution_count": 75,
   "metadata": {},
   "outputs": [],
   "source": [
    "distances, indices = nbrs.kneighbors(anime_features)\n"
   ]
  },
  {
   "cell_type": "code",
   "execution_count": 76,
   "metadata": {},
   "outputs": [],
   "source": [
    "def get_index_from_name(name):\n",
    "    return anime[anime[\"name\"]==name].index.tolist()[0]"
   ]
  },
  {
   "cell_type": "code",
   "execution_count": 77,
   "metadata": {},
   "outputs": [],
   "source": [
    "all_anime_names = list(anime.name.values)\n"
   ]
  },
  {
   "cell_type": "code",
   "execution_count": 78,
   "metadata": {},
   "outputs": [],
   "source": [
    "def get_id_from_partial_name(partial):\n",
    "    for name in all_anime_names:\n",
    "        if partial in name:\n",
    "            print(name,all_anime_names.index(name))\n"
   ]
  },
  {
   "cell_type": "code",
   "execution_count": 79,
   "metadata": {},
   "outputs": [],
   "source": [
    "def print_similar_animes(query=None,id=None):\n",
    "    if id:\n",
    "        for id in indices[id][1:]:\n",
    "            print(anime.ix[id][\"name\"])\n",
    "    if query:\n",
    "        found_id = get_index_from_name(query)\n",
    "        for id in indices[found_id][1:]:\n",
    "            print(anime.ix[id][\"name\"])\n"
   ]
  },
  {
   "cell_type": "code",
   "execution_count": 80,
   "metadata": {
    "scrolled": true
   },
   "outputs": [
    {
     "name": "stdout",
     "output_type": "stream",
     "text": [
      "Naruto Shippuuden\n",
      "Katekyo Hitman Reborn \n",
      "Bleach\n",
      "Dragon Ball Z\n",
      "Boku no Hero Academia\n"
     ]
    },
    {
     "name": "stderr",
     "output_type": "stream",
     "text": [
      "/home/josu/AprendizadoMaquina/estudo/MachineLearning/lib/python3.5/site-packages/ipykernel_launcher.py:8: DeprecationWarning: \n",
      ".ix is deprecated. Please use\n",
      ".loc for label based indexing or\n",
      ".iloc for positional indexing\n",
      "\n",
      "See the documentation here:\n",
      "http://pandas.pydata.org/pandas-docs/stable/indexing.html#ix-indexer-is-deprecated\n",
      "  \n"
     ]
    }
   ],
   "source": [
    "print_similar_animes(query=\"Naruto\")\n"
   ]
  },
  {
   "cell_type": "code",
   "execution_count": 81,
   "metadata": {},
   "outputs": [
    {
     "name": "stdout",
     "output_type": "stream",
     "text": [
      "Noragami Aragoto\n",
      "JoJo no Kimyou na Bouken TV \n",
      "JoJo no Kimyou na Bouken Stardust Crusaders\n",
      "JoJo no Kimyou na Bouken Stardust Crusaders 2nd Season\n",
      "Yumekui Merry\n"
     ]
    }
   ],
   "source": [
    "print_similar_animes(\"Noragami\")\n"
   ]
  },
  {
   "cell_type": "code",
   "execution_count": 82,
   "metadata": {},
   "outputs": [
    {
     "name": "stdout",
     "output_type": "stream",
     "text": [
      "Mushishi Zoku Shou\n",
      "Mushishi Zoku Shou 2nd Season\n",
      "Mushishi Special Hihamukage\n",
      "Mushishi Zoku Shou Odoro no Michi\n",
      "Mushishi Zoku Shou Suzu no Shizuku\n"
     ]
    }
   ],
   "source": [
    "print_similar_animes(\"Mushishi\")\n"
   ]
  },
  {
   "cell_type": "code",
   "execution_count": 83,
   "metadata": {},
   "outputs": [
    {
     "name": "stdout",
     "output_type": "stream",
     "text": [
      "Gintama 039 \n",
      "Gintama \n",
      "Gintama 039 Enchousen\n",
      "Gintama 2017 \n",
      "Gintama Movie Kanketsu hen Yorozuya yo Eien Nare\n"
     ]
    }
   ],
   "source": [
    "print_similar_animes(\"Gintama\")\n"
   ]
  },
  {
   "cell_type": "code",
   "execution_count": 86,
   "metadata": {},
   "outputs": [
    {
     "data": {
      "text/plain": [
       "Text(0,0.5,'Inércia')"
      ]
     },
     "execution_count": 86,
     "metadata": {},
     "output_type": "execute_result"
    },
    {
     "data": {
      "image/png": "[encoded data removed]",
      "text/plain": [
       "<Figure size 432x288 with 1 Axes>"
      ]
     },
     "metadata": {},
     "output_type": "display_data"
    }
   ],
   "source": [
    "from sklearn.cluster import KMeans\n",
    "inertias = []\n",
    "ks = range(1, 10)\n",
    "for i in ks:\n",
    "    kmeans = KMeans(n_clusters=i)\n",
    "    kmeans.fit(anime_features)\n",
    "    inertias.append(kmeans.inertia_)\n",
    "plt.plot(ks, inertias, '-o')\n",
    "plt.xlabel('Número de clusters')\n",
    "plt.ylabel('Inércia')"
   ]
  },
  {
   "cell_type": "code",
   "execution_count": 90,
   "metadata": {},
   "outputs": [
    {
     "name": "stdout",
     "output_type": "stream",
     "text": [
      "col_0       0     1     2     3     4     5    6    7     8\n",
      "cluster                                                    \n",
      "0        1185     0     0     0     0     0    0    0     0\n",
      "1           0  1848     0     0     0     0    0    0     0\n",
      "2           0     0  2484     0     0     0    0    0     0\n",
      "3           0     0     0  1546     0     0    0    0     0\n",
      "4           0     0     0     0  1496     0    0    0     0\n",
      "5           0     0     0     0     0  1064    0    0     0\n",
      "6           0     0     0     0     0     0  769    0     0\n",
      "7           0     0     0     0     0     0    0  511     0\n",
      "8           0     0     0     0     0     0    0    0  1391\n"
     ]
    }
   ],
   "source": [
    "\n",
    "kmeans = KMeans(n_clusters=9)\n",
    "labels = kmeans.fit_predict(anime_features)\n",
    "\n",
    "cluster_class = pd.DataFrame({'cluster': labels})\n",
    "ct = pd.crosstab(cluster_class['cluster'],labels)\n",
    "print(ct)"
   ]
  },
  {
   "cell_type": "code",
   "execution_count": null,
   "metadata": {},
   "outputs": [],
   "source": []
  }
 ],
 "metadata": {
  "kernelspec": {
   "display_name": "Python 3",
   "language": "python",
   "name": "python3"
  },
  "language_info": {
   "codemirror_mode": {
    "name": "ipython",
    "version": 3
   },
   "file_extension": ".py",
   "mimetype": "text/x-python",
   "name": "python",
   "nbconvert_exporter": "python",
   "pygments_lexer": "ipython3",
   "version": "3.5.2"
  }
 },
 "nbformat": 4,
 "nbformat_minor": 2
}
